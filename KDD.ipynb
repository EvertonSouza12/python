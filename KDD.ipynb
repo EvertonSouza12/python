{
  "nbformat": 4,
  "nbformat_minor": 0,
  "metadata": {
    "colab": {
      "provenance": [],
      "authorship_tag": "ABX9TyMgEb/mSzf+2sechRZ0MSoB"
    },
    "kernelspec": {
      "name": "python3",
      "display_name": "Python 3"
    },
    "language_info": {
      "name": "python"
    }
  },
  "cells": [
    {
      "cell_type": "code",
      "execution_count": 1,
      "metadata": {
        "id": "LoeL6mt3k6nc"
      },
      "outputs": [],
      "source": [
        "from sklearn.cluster import KMeans\n",
        "import numpy as np\n",
        "import matplotlib.pyplot as plt"
      ]
    },
    {
      "cell_type": "code",
      "source": [
        "X = np.array([[9, 7], [1, 3], [1, 2], [3, 2], [8, 9], [8, 5]])\n",
        "x = [i[0] for i in X]\n",
        "y = [i[1] for i in X]"
      ],
      "metadata": {
        "id": "f_oW4dmPof5b"
      },
      "execution_count": 2,
      "outputs": []
    },
    {
      "cell_type": "code",
      "source": [
        "plt.figure(figsize=(12,3))\n",
        "plt.subplot(131)\n",
        "plt.plot(x, y, 'ko')\n",
        "plt.axis([0,10,0,10])"
      ],
      "metadata": {
        "colab": {
          "base_uri": "https://localhost:8080/",
          "height": 314
        },
        "id": "D-pfW93hojXB",
        "outputId": "eb6638ee-cb9a-43cb-a40b-c5f2a42c0c53"
      },
      "execution_count": 3,
      "outputs": [
        {
          "output_type": "execute_result",
          "data": {
            "text/plain": [
              "(0.0, 10.0, 0.0, 10.0)"
            ]
          },
          "metadata": {},
          "execution_count": 3
        },
        {
          "output_type": "display_data",
          "data": {
            "text/plain": [
              "<Figure size 1200x300 with 1 Axes>"
            ],
            "image/png": "[encoded data removed]"
          },
          "metadata": {}
        }
      ]
    },
    {
      "cell_type": "code",
      "source": [
        "grupos = KMeans(n_clusters=2, random_state=0).fit(X)\n",
        "print(grupos.labels_)"
      ],
      "metadata": {
        "colab": {
          "base_uri": "https://localhost:8080/"
        },
        "id": "M6sNyFE8onNE",
        "outputId": "ff159e63-7fd9-410c-bf9a-1445fa920e1e"
      },
      "execution_count": 7,
      "outputs": [
        {
          "output_type": "stream",
          "name": "stdout",
          "text": [
            "[0 1 1 1 0 0]\n"
          ]
        },
        {
          "output_type": "stream",
          "name": "stderr",
          "text": [
            "/usr/local/lib/python3.10/dist-packages/sklearn/cluster/_kmeans.py:870: FutureWarning: The default value of `n_init` will change from 10 to 'auto' in 1.4. Set the value of `n_init` explicitly to suppress the warning\n",
            "  warnings.warn(\n"
          ]
        }
      ]
    },
    {
      "cell_type": "code",
      "source": [
        "grupo_0 = [X[i] for i in range(6) if grupos.labels_[i] == 0]\n",
        "grupo_1 = [X[i] for i in range(6) if grupos.labels_[i] == 1]\n",
        "x0 = [i[0] for i in grupo_0]\n",
        "y0 = [i[1] for i in grupo_0]\n",
        "x1 = [i[0] for i in grupo_1]\n",
        "y1 = [i[1] for i in grupo_1]"
      ],
      "metadata": {
        "id": "XS8S8GXro944"
      },
      "execution_count": 12,
      "outputs": []
    },
    {
      "cell_type": "code",
      "source": [
        "plt.subplot(132)\n",
        "plt.plot(x0, y0, 'bo')\n",
        "plt.plot(x1, y1, 'ro')\n",
        "plt.axis([0,10,0,10])\n",
        "plt.show()"
      ],
      "metadata": {
        "colab": {
          "base_uri": "https://localhost:8080/",
          "height": 435
        },
        "id": "-yokCY4gpLXJ",
        "outputId": "f9eb5a55-dac0-4cca-a556-30316f3a1190"
      },
      "execution_count": 11,
      "outputs": [
        {
          "output_type": "display_data",
          "data": {
            "text/plain": [
              "<Figure size 640x480 with 1 Axes>"
            ],
            "image/png": "[encoded data removed]"
          },
          "metadata": {}
        }
      ]
    },
    {
      "cell_type": "code",
      "source": [
        "X = np.array([[9, 7], [1, 3], [1, 2], [3, 2], [8, 9], [8, 5]])\n",
        "x = [i[0] for i in X]\n",
        "y = [i[1] for i in X]"
      ],
      "metadata": {
        "id": "JiV0TOLNpX6e"
      },
      "execution_count": 13,
      "outputs": []
    },
    {
      "cell_type": "code",
      "source": [
        "plt.figure(figsize=(12,3))"
      ],
      "metadata": {
        "colab": {
          "base_uri": "https://localhost:8080/",
          "height": 52
        },
        "id": "cTOYzTGHpcR_",
        "outputId": "aae8b538-037a-4e83-f116-51fc4842e8d9"
      },
      "execution_count": 14,
      "outputs": [
        {
          "output_type": "execute_result",
          "data": {
            "text/plain": [
              "<Figure size 1200x300 with 0 Axes>"
            ]
          },
          "metadata": {},
          "execution_count": 14
        },
        {
          "output_type": "display_data",
          "data": {
            "text/plain": [
              "<Figure size 1200x300 with 0 Axes>"
            ]
          },
          "metadata": {}
        }
      ]
    },
    {
      "cell_type": "code",
      "source": [
        "plt.subplot(131)\n",
        "plt.plot(x, y, 'ko')\n",
        "plt.axis([0,10,0,10])"
      ],
      "metadata": {
        "colab": {
          "base_uri": "https://localhost:8080/",
          "height": 452
        },
        "id": "YApCqsM9pfE-",
        "outputId": "39c7f9fb-cd16-456a-ec12-79632fc1048a"
      },
      "execution_count": 15,
      "outputs": [
        {
          "output_type": "execute_result",
          "data": {
            "text/plain": [
              "(0.0, 10.0, 0.0, 10.0)"
            ]
          },
          "metadata": {},
          "execution_count": 15
        },
        {
          "output_type": "display_data",
          "data": {
            "text/plain": [
              "<Figure size 640x480 with 1 Axes>"
            ],
            "image/png": "[encoded data removed]"
          },
          "metadata": {}
        }
      ]
    },
    {
      "cell_type": "code",
      "source": [
        "grupos = KMeans(n_clusters=2, random_state=0).fit(X)\n",
        "print(grupos.labels_)"
      ],
      "metadata": {
        "colab": {
          "base_uri": "https://localhost:8080/"
        },
        "id": "12ixikstpimo",
        "outputId": "51a4c618-cf62-4245-9e14-a9cf062429b2"
      },
      "execution_count": 16,
      "outputs": [
        {
          "output_type": "stream",
          "name": "stdout",
          "text": [
            "[0 1 1 1 0 0]\n"
          ]
        },
        {
          "output_type": "stream",
          "name": "stderr",
          "text": [
            "/usr/local/lib/python3.10/dist-packages/sklearn/cluster/_kmeans.py:870: FutureWarning: The default value of `n_init` will change from 10 to 'auto' in 1.4. Set the value of `n_init` explicitly to suppress the warning\n",
            "  warnings.warn(\n"
          ]
        }
      ]
    },
    {
      "cell_type": "code",
      "source": [
        "grupo_0 = [X[i] for i in range(6) if grupos.labels_[i] == 0]\n",
        "grupo_1 = [X[i] for i in range(6) if grupos.labels_[i] == 1]"
      ],
      "metadata": {
        "id": "FHd_2yaLpofy"
      },
      "execution_count": 17,
      "outputs": []
    },
    {
      "cell_type": "code",
      "source": [
        "x0 = [i[0] for i in grupo_0]\n",
        "y0 = [i[1] for i in grupo_0]\n",
        "x1 = [i[0] for i in grupo_1]\n",
        "y1 = [i[1] for i in grupo_1]"
      ],
      "metadata": {
        "id": "lmC33BLYpvxD"
      },
      "execution_count": 18,
      "outputs": []
    },
    {
      "cell_type": "code",
      "source": [
        "plt.subplot(132)\n",
        "plt.plot(x0, y0, 'bo')\n",
        "plt.plot(x1, y1, 'ro')\n",
        "plt.axis([0,10,0,10])\n",
        "plt.show()"
      ],
      "metadata": {
        "colab": {
          "base_uri": "https://localhost:8080/",
          "height": 435
        },
        "id": "eR03Effrp0hA",
        "outputId": "9575ee37-effd-42df-b602-e8149ae17a56"
      },
      "execution_count": 20,
      "outputs": [
        {
          "output_type": "display_data",
          "data": {
            "text/plain": [
              "<Figure size 640x480 with 1 Axes>"
            ],
            "image/png": "[encoded data removed]"
          },
          "metadata": {}
        }
      ]
    },
    {
      "cell_type": "code",
      "source": [
        "novo_ponto = [7, 7]\n",
        "p = grupos.predict([novo_ponto])\n",
        "plt.subplot(131)\n",
        "plt.axis([0,10,0,10])\n",
        "cor_grupo = ['rx' if p == 1 else 'bx']\n",
        "plt.plot(x0, y0, 'bo')\n",
        "plt.plot(x1, y1, 'ro')\n",
        "plt.plot(novo_ponto[0], novo_ponto[1], cor_grupo[0])"
      ],
      "metadata": {
        "colab": {
          "base_uri": "https://localhost:8080/",
          "height": 452
        },
        "id": "-QZBrOUjp8Lp",
        "outputId": "f37b068f-c57c-4432-aa22-d325c38017ff"
      },
      "execution_count": 22,
      "outputs": [
        {
          "output_type": "execute_result",
          "data": {
            "text/plain": [
              "[<matplotlib.lines.Line2D at 0x78e4b0af5990>]"
            ]
          },
          "metadata": {},
          "execution_count": 22
        },
        {
          "output_type": "display_data",
          "data": {
            "text/plain": [
              "<Figure size 640x480 with 1 Axes>"
            ],
            "image/png": "[encoded data removed]"
          },
          "metadata": {}
        }
      ]
    },
    {
      "cell_type": "code",
      "source": [
        "novo_ponto = [4, 4]\n",
        "p = grupos.predict([novo_ponto])\n",
        "plt.subplot(132)\n",
        "plt.axis([0,10,0,10])\n",
        "cor_grupo = ['rx' if p == 1 else 'bx']\n",
        "plt.plot(x0, y0, 'bo')\n",
        "plt.plot(x1, y1, 'ro')\n",
        "plt.plot(novo_ponto[0], novo_ponto[1], cor_grupo[0])"
      ],
      "metadata": {
        "colab": {
          "base_uri": "https://localhost:8080/",
          "height": 452
        },
        "id": "TrRkbAwAqGm7",
        "outputId": "b722877e-7eb2-4a97-eb31-bd1c3ded67eb"
      },
      "execution_count": 24,
      "outputs": [
        {
          "output_type": "execute_result",
          "data": {
            "text/plain": [
              "[<matplotlib.lines.Line2D at 0x78e4b09cbe20>]"
            ]
          },
          "metadata": {},
          "execution_count": 24
        },
        {
          "output_type": "display_data",
          "data": {
            "text/plain": [
              "<Figure size 640x480 with 1 Axes>"
            ],
            "image/png": "[encoded data removed]"
          },
          "metadata": {}
        }
      ]
    }
  ]
}